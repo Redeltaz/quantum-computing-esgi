{
 "cells": [
  {
   "cell_type": "code",
   "execution_count": 1,
   "id": "37800f50-1b2d-47a3-b6a4-cd7326f11d33",
   "metadata": {},
   "outputs": [],
   "source": [
    "# import des modules\n",
    "import numpy as np\n",
    "from qiskit import *"
   ]
  },
  {
   "cell_type": "code",
   "execution_count": 2,
   "id": "d248d7bc-0c37-4006-b598-a02567d87163",
   "metadata": {},
   "outputs": [
    {
     "data": {
      "text/html": [
       "<pre style=\"word-wrap: normal;white-space: pre;background: #fff0;line-height: 1.1;font-family: &quot;Courier New&quot;,Courier,monospace\">     \n",
       "q_0: \n",
       "     \n",
       "q_1: \n",
       "     \n",
       "q_2: \n",
       "     </pre>"
      ],
      "text/plain": [
       "     \n",
       "q_0: \n",
       "     \n",
       "q_1: \n",
       "     \n",
       "q_2: \n",
       "     "
      ]
     },
     "execution_count": 2,
     "metadata": {},
     "output_type": "execute_result"
    }
   ],
   "source": [
    "# création du circuit et affichage de base\n",
    "qCircuit = QuantumCircuit(3)\n",
    "qCircuit.draw()"
   ]
  },
  {
   "cell_type": "code",
   "execution_count": 3,
   "id": "081bc71e-b649-4ff5-afd4-256668541644",
   "metadata": {},
   "outputs": [
    {
     "data": {
      "text/html": [
       "<pre style=\"word-wrap: normal;white-space: pre;background: #fff0;line-height: 1.1;font-family: &quot;Courier New&quot;,Courier,monospace\">     ┌───┐     \n",
       "q_0: ┤ H ├──■──\n",
       "     └───┘┌─┴─┐\n",
       "q_1: ─────┤ X ├\n",
       "     ┌───┐└───┘\n",
       "q_2: ┤ H ├─────\n",
       "     └───┘     </pre>"
      ],
      "text/plain": [
       "     ┌───┐     \n",
       "q_0: ┤ H ├──■──\n",
       "     └───┘┌─┴─┐\n",
       "q_1: ─────┤ X ├\n",
       "     ┌───┐└───┘\n",
       "q_2: ┤ H ├─────\n",
       "     └───┘     "
      ]
     },
     "execution_count": 3,
     "metadata": {},
     "output_type": "execute_result"
    }
   ],
   "source": [
    "# Mise en place aléatoire du trésor\n",
    "qCircuit.h(0)\n",
    "qCircuit.h(2)\n",
    "qCircuit.cx(0, 1)\n",
    "qCircuit.draw()"
   ]
  },
  {
   "cell_type": "code",
   "execution_count": 4,
   "id": "fef7a532-6886-431a-b8b1-b548c839fe02",
   "metadata": {},
   "outputs": [
    {
     "data": {
      "text/html": [
       "<pre style=\"word-wrap: normal;white-space: pre;background: #fff0;line-height: 1.1;font-family: &quot;Courier New&quot;,Courier,monospace\">     ┌───┐               ┌───┐     \n",
       "q_0: ┤ H ├──■────────────┤ X ├─────\n",
       "     └───┘┌─┴─┐┌───┐     └─┬─┘     \n",
       "q_1: ─────┤ X ├┤ X ├───────┼───────\n",
       "     ┌───┐└───┘└─┬─┘┌───┐  │  ┌───┐\n",
       "q_2: ┤ H ├───────■──┤ X ├──■──┤ X ├\n",
       "     └───┘          └───┘     └───┘</pre>"
      ],
      "text/plain": [
       "     ┌───┐               ┌───┐     \n",
       "q_0: ┤ H ├──■────────────┤ X ├─────\n",
       "     └───┘┌─┴─┐┌───┐     └─┬─┘     \n",
       "q_1: ─────┤ X ├┤ X ├───────┼───────\n",
       "     ┌───┐└───┘└─┬─┘┌───┐  │  ┌───┐\n",
       "q_2: ┤ H ├───────■──┤ X ├──■──┤ X ├\n",
       "     └───┘          └───┘     └───┘"
      ]
     },
     "execution_count": 4,
     "metadata": {},
     "output_type": "execute_result"
    }
   ],
   "source": [
    "# Introduction de la ligne du mensonge\n",
    "qCircuit.cx(2, 1)\n",
    "qCircuit.x(2)\n",
    "qCircuit.cx(2, 0)\n",
    "qCircuit.x(2)\n",
    "qCircuit.draw()"
   ]
  },
  {
   "cell_type": "code",
   "execution_count": 5,
   "id": "84f22896-52b8-4175-9d63-6877758d8b01",
   "metadata": {},
   "outputs": [
    {
     "data": {
      "text/html": [
       "<pre style=\"word-wrap: normal;white-space: pre;background: #fff0;line-height: 1.1;font-family: &quot;Courier New&quot;,Courier,monospace\">     ┌───┐               ┌───┐     ┌───┐          ┌───┐     \n",
       "q_0: ┤ H ├──■────────────┤ X ├──X──┤ X ├──────────┤ X ├─────\n",
       "     └───┘┌─┴─┐┌───┐     └─┬─┘  │  ├───┤┌───┐     └─┬─┘     \n",
       "q_1: ─────┤ X ├┤ X ├───────┼────X──┤ X ├┤ X ├───────┼───────\n",
       "     ┌───┐└───┘└─┬─┘┌───┐  │  ┌───┐└───┘└─┬─┘┌───┐  │  ┌───┐\n",
       "q_2: ┤ H ├───────■──┤ X ├──■──┤ X ├───────■──┤ X ├──■──┤ X ├\n",
       "     └───┘          └───┘     └───┘          └───┘     └───┘</pre>"
      ],
      "text/plain": [
       "     ┌───┐               ┌───┐     ┌───┐          ┌───┐     \n",
       "q_0: ┤ H ├──■────────────┤ X ├──X──┤ X ├──────────┤ X ├─────\n",
       "     └───┘┌─┴─┐┌───┐     └─┬─┘  │  ├───┤┌───┐     └─┬─┘     \n",
       "q_1: ─────┤ X ├┤ X ├───────┼────X──┤ X ├┤ X ├───────┼───────\n",
       "     ┌───┐└───┘└─┬─┘┌───┐  │  ┌───┐└───┘└─┬─┘┌───┐  │  ┌───┐\n",
       "q_2: ┤ H ├───────■──┤ X ├──■──┤ X ├───────■──┤ X ├──■──┤ X ├\n",
       "     └───┘          └───┘     └───┘          └───┘     └───┘"
      ]
     },
     "execution_count": 5,
     "metadata": {},
     "output_type": "execute_result"
    }
   ],
   "source": [
    "# On pose la question\n",
    "qCircuit.swap(0, 1)\n",
    "qCircuit.x(0)\n",
    "qCircuit.x(1)\n",
    "qCircuit.cx(2, 1)\n",
    "qCircuit.x(2)\n",
    "qCircuit.cx(2, 0)\n",
    "qCircuit.x(2)\n",
    "qCircuit.draw()"
   ]
  },
  {
   "cell_type": "code",
   "execution_count": null,
   "id": "279277e7-82ed-47f0-827b-ea8156fe8591",
   "metadata": {},
   "outputs": [],
   "source": []
  }
 ],
 "metadata": {
  "kernelspec": {
   "display_name": "Python 3 (ipykernel)",
   "language": "python",
   "name": "python3"
  },
  "language_info": {
   "codemirror_mode": {
    "name": "ipython",
    "version": 3
   },
   "file_extension": ".py",
   "mimetype": "text/x-python",
   "name": "python",
   "nbconvert_exporter": "python",
   "pygments_lexer": "ipython3",
   "version": "3.10.12"
  }
 },
 "nbformat": 4,
 "nbformat_minor": 5
}
